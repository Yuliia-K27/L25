{
 "cells": [
  {
   "cell_type": "code",
   "execution_count": 1,
   "id": "e33e7ee4-83f1-40e5-8da8-ca64d1ef5424",
   "metadata": {},
   "outputs": [
    {
     "name": "stdout",
     "output_type": "stream",
     "text": [
      "Закон розподілу:\n",
      "P(X=0, Y=0) = 0.013824000000000001\n",
      "P(X=0, Y=1) = 0.06220800000000001\n",
      "P(X=0, Y=2) = 0.09331199999999998\n",
      "P(X=0, Y=3) = 0.04665599999999999\n",
      "P(X=1, Y=0) = 0.027648000000000002\n",
      "P(X=1, Y=1) = 0.12441600000000003\n",
      "P(X=1, Y=2) = 0.18662399999999996\n",
      "P(X=2, Y=0) = 0.01843200000000001\n",
      "P(X=2, Y=1) = 0.08294400000000005\n",
      "P(X=3, Y=0) = 0.0040960000000000015\n",
      "Коефіцієнт кореляції:  0.33333333333333326\n"
     ]
    }
   ],
   "source": [
    "import numpy as np\n",
    "from scipy.stats import binom\n",
    "\n",
    "# визначення ймовірності та побудова закону розподілу\n",
    "p = 0.6\n",
    "X = binom(3, 1-p)\n",
    "Y = binom(3, p)\n",
    "\n",
    "# виведення закону розподілу\n",
    "print(\"Закон розподілу:\")\n",
    "for i in range(4):\n",
    "    for j in range(4):\n",
    "        if i+j <= 3:\n",
    "            print(f\"P(X={i}, Y={j}) = {X.pmf(i) * Y.pmf(j)}\")\n",
    "\n",
    "# обчислення коефіцієнта кореляції\n",
    "rxy = (p * (1-p)) / np.sqrt(X.var() * Y.var())\n",
    "print(\"Коефіцієнт кореляції: \", rxy)"
   ]
  },
  {
   "cell_type": "code",
   "execution_count": null,
   "id": "df881a51-a654-4da8-b937-ce65a53229fe",
   "metadata": {},
   "outputs": [],
   "source": []
  }
 ],
 "metadata": {
  "kernelspec": {
   "display_name": "Python 3 (ipykernel)",
   "language": "python",
   "name": "python3"
  },
  "language_info": {
   "codemirror_mode": {
    "name": "ipython",
    "version": 3
   },
   "file_extension": ".py",
   "mimetype": "text/x-python",
   "name": "python",
   "nbconvert_exporter": "python",
   "pygments_lexer": "ipython3",
   "version": "3.9.13"
  }
 },
 "nbformat": 4,
 "nbformat_minor": 5
}
